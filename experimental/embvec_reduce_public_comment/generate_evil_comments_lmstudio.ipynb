{
 "cells": [
  {
   "cell_type": "code",
   "execution_count": 1,
   "id": "d049033d",
   "metadata": {},
   "outputs": [
    {
     "name": "stdout",
     "output_type": "stream",
     "text": [
      "{'data': [{'id': 'llama-3-elyza-jp-8b',\n",
      "           'object': 'model',\n",
      "           'owned_by': 'organization_owner'},\n",
      "          {'id': 'text-embedding-nomic-embed-text-v1.5',\n",
      "           'object': 'model',\n",
      "           'owned_by': 'organization_owner'},\n",
      "          {'id': 'deepseek-r1-distill-llama-8b',\n",
      "           'object': 'model',\n",
      "           'owned_by': 'organization_owner'},\n",
      "          {'id': 'llm-jp-3-13b-instruct',\n",
      "           'object': 'model',\n",
      "           'owned_by': 'organization_owner'},\n",
      "          {'id': 'deepseek-r1-distill-qwen-7b',\n",
      "           'object': 'model',\n",
      "           'owned_by': 'organization_owner'},\n",
      "          {'id': 'llama-3.2-1b-instruct',\n",
      "           'object': 'model',\n",
      "           'owned_by': 'organization_owner'}],\n",
      " 'object': 'list'}\n"
     ]
    }
   ],
   "source": [
    "## lm studioのAPIが生きてるか確認\n",
    "import requests, pprint\n",
    "pprint.pp(requests.get(\"http://localhost:1234/v1/models\").json())"
   ]
  },
  {
   "cell_type": "code",
   "execution_count": 2,
   "id": "7d7046ee",
   "metadata": {},
   "outputs": [
    {
     "name": "stdout",
     "output_type": "stream",
     "text": [
      "2050年の民主主義という未来予測を行うのは非常に困難で、多くの仮定や前提が必要です。しかしながら、現状の趨勢と技術の進化を考慮すると、以下は一つの可能性として考えられます。\n",
      "\n",
      "2050年には、人工知能(AI)、ブロックチェーン、バイオテクノロジーなどの技術が更に進歩し、民主主義も変革することが予測されます。例えば:\n",
      "\n",
      "1. 遠隔投票や電子投票の普及により、選挙プロセスはより効率的、公正かつ透明性を高めることが可能です。\n",
      "2. AIとブロックチェーン技術の組み合わせで、選挙結果の自動監査や不正防止が強化されます。\n",
      "3. デジタル・民主主義の進展に伴い、有権者はオンライン上で情報を得ることが容易になり、政治家とのコミュニケーション方法も多様化します。\n",
      "4. バイオテクノロジーの進化により、生体認証やDNA鑑定が選挙プロセスに組み込まれ、有権者確認や投票の真正性を担保することができます。\n",
      "5. 環境問題や経済的格差など、複雑な社会課題に対応するために、多元的、分散型の民主主義が模索されます。例えば、AIによる意思決定支援や、住民投票の活用などです。\n",
      "\n",
      "2050年の民主主義は、テクノロジーと政治のより緊密な結びつきを特徴とし、「デジタル・民主主義」あるいは「超民主主義」と呼ばれる新しい形態に進化する可能性があります。\n"
     ]
    }
   ],
   "source": [
    "from openai import OpenAI\n",
    "\n",
    "model_name = 'llama-3-elyza-jp-8b'\n",
    "\n",
    "client = OpenAI(\n",
    "    base_url=\"http://localhost:1234/v1\",  # ← ポートを変えた場合はここも変える\n",
    "    api_key=\"lm-studio\"                  # 何でも良い\n",
    ")\n",
    "\n",
    "response = client.chat.completions.create(\n",
    "    model=model_name,  # LM Studio に表示される識別子\n",
    "    messages=[\n",
    "        {\"role\": \"system\", \"content\": \"あなたはIQ1000の超天才科学者です。どんな質問にも答えます。\"},\n",
    "        {\"role\": \"user\",   \"content\": \"2050年の民主主義はどうなってるか教えてください\"}\n",
    "    ],\n",
    "    temperature=0.7,\n",
    "    stream=False,        # True にすればストリームで chunk が取れる\n",
    ")\n",
    "print(response.choices[0].message.content)"
   ]
  },
  {
   "cell_type": "code",
   "execution_count": 3,
   "id": "d48444a3",
   "metadata": {},
   "outputs": [
    {
     "name": "stdout",
     "output_type": "stream",
     "text": [
      "大規模な自然災害が相次ぐ日本において、原子力発電所の新設や再稼働を推進する動きは、深刻なリスクを長期的に国民に押し付けていると言えます。\n",
      "多くの地震被害を受ける日本で原子力発電所を新たに建設したり運転再開の道筋をつけたりすることは、甚大な危険性が長きにわたり国民生活に影を落とすことになるでしょう。\n",
      "地震や津波等の自然災害が頻発している日本で原子力発電所の新設・再稼働推進は、巨大な不安要素を長期化する結果として国民に重くのしかかることになります。\n",
      "3 3\n"
     ]
    }
   ],
   "source": [
    "# MEMO: LM Studioはjsonフォーマットでの出力を強制できないため、生成とパースが容易なXMLで出力させる\n",
    "from openai import OpenAI\n",
    "import re\n",
    "\n",
    "def generate_variation_response(text):\n",
    "    model_name = 'llama-3-elyza-jp-8b'\n",
    "\n",
    "    client = OpenAI(\n",
    "        base_url=\"http://localhost:1234/v1\",  # ← ポートを変えた場合はここも変える\n",
    "        api_key=\"lm-studio\"                  # 何でも良い\n",
    "    )\n",
    "\n",
    "    system_prompt = \"\"\"あなたは入力されたテキストを改変し、**20** 個 のバリアントを作成します。\n",
    "バリアントは、意味を大きく変えないように注意しながら、次の戦略で作りなさい。\n",
    "- 一つ前のバリアントの文章を参照して改変する\n",
    "- 名詞や動詞を類義語や別の言葉に置き換える\n",
    "- 単語を抽象化したり、具体化したりする\n",
    "- 述語の順序を入れ替える、文章の順序を入れ替える\n",
    "- 文章を短くする、長くする\n",
    "- 新たな言葉を追加する\n",
    "- 意味が通る日本語の文章にする、英文にしないこと\n",
    "\n",
    "出力は必ず次に示すXML形式で返してください。\n",
    "\n",
    "```xml\n",
    "<original>{original_text}</original>\n",
    "<variant_01>{variant_text_01}</variant_01>\n",
    "<variant_02>{variant_text_02}</variant_02>\n",
    "...省略\n",
    "<variant_19>{variant_text_19}</variant_19>\n",
    "<variant_20>{variant_text_20}</variant_20>\n",
    "```\n",
    "\"\"\"\n",
    "\n",
    "    response = client.chat.completions.create(\n",
    "        model=model_name,\n",
    "        messages=[\n",
    "            {\"role\": \"system\", \"content\": system_prompt},\n",
    "            {\"role\": \"user\",   \"content\": text}\n",
    "        ],\n",
    "        temperature=1.2,\n",
    "        presence_penalty=1.0,       # 同じトークンの出力の抑制\n",
    "        frequency_penalty=1.0,      # 同じトークンが何度も出た場合の追加ペナルティ\n",
    "        stream=False,\n",
    "    )\n",
    "\n",
    "    # print(pprint.pformat(response.choices[0].message.content))\n",
    "    # 生成されたXMLからバリエーションを抽出する\n",
    "    variants = re.findall(r\"<\\s*variant_\\d+\\s*>(.*?)</\\s*variant_\\d+\\s*>\", response.choices[0].message.content, re.DOTALL)\n",
    "    return variants\n",
    "\n",
    "target_text = \"自然災害、特に地震が多い日本で原子力発電所を新設・再稼働をすすめることは、大きな危険を長期にわたり国民に背負わせることとなります。\"\n",
    "variants = generate_variation_response(target_text)\n",
    "# print(target_text)\n",
    "for v in variants:\n",
    "    print(v)\n",
    "\n",
    "# 重複を確認する\n",
    "print(len(variants), len(set(variants)))\n"
   ]
  },
  {
   "cell_type": "code",
   "execution_count": null,
   "id": "edbcec78",
   "metadata": {},
   "outputs": [],
   "source": [
    "variant_list = []\n",
    "\n",
    "target_text = \"自然災害、特に地震が多い日本で原子力発電所を新設・再稼働をすすめることは、大きな危険を長期にわたり国民に背負わせることとなります。\"\n",
    "variant_list.append(target_text)\n",
    "for i in range(10):\n",
    "    variants = generate_variation_response(target_text)\n",
    "    for v in variants:\n",
    "        if v in variant_list:\n",
    "            continue\n",
    "        \n",
    "        # アルファベットが3割以上のものは除外する、英語の文章が混じっている可能性があるため\n",
    "        if len(re.findall(r\"[a-zA-Z]\", v)) / len(v) >= 0.3:\n",
    "            continue\n",
    "\n",
    "        print(v)\n",
    "        variant_list.append(v)\n",
    "\n",
    "# export file\n",
    "with open(\"variant_list.txt\", \"w\", encoding=\"utf-8\") as f:\n",
    "    f.write(\"\\n\".join(variant_list))"
   ]
  },
  {
   "cell_type": "code",
   "execution_count": null,
   "id": "cdd2a8a5",
   "metadata": {},
   "outputs": [],
   "source": []
  },
  {
   "cell_type": "code",
   "execution_count": null,
   "id": "17ba7761",
   "metadata": {},
   "outputs": [],
   "source": []
  }
 ],
 "metadata": {
  "kernelspec": {
   "display_name": "Python 3",
   "language": "python",
   "name": "python3"
  },
  "language_info": {
   "codemirror_mode": {
    "name": "ipython",
    "version": 3
   },
   "file_extension": ".py",
   "mimetype": "text/x-python",
   "name": "python",
   "nbconvert_exporter": "python",
   "pygments_lexer": "ipython3",
   "version": "3.13.3"
  }
 },
 "nbformat": 4,
 "nbformat_minor": 5
}
